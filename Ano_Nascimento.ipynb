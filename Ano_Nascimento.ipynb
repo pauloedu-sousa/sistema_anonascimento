{
  "nbformat": 4,
  "nbformat_minor": 0,
  "metadata": {
    "colab": {
      "provenance": []
    },
    "kernelspec": {
      "name": "python3",
      "display_name": "Python 3"
    },
    "language_info": {
      "name": "python"
    }
  },
  "cells": [
    {
      "cell_type": "code",
      "execution_count": 11,
      "metadata": {
        "colab": {
          "base_uri": "https://localhost:8080/"
        },
        "id": "RkTB709vtWlX",
        "outputId": "efd27786-4ced-4946-d076-23c430985712"
      },
      "outputs": [
        {
          "output_type": "stream",
          "name": "stdout",
          "text": [
            "Digite seu nome completo: Cleudimar de Sousa Moraes Aguiar\n",
            "Digite um ano de nascimento entre (1922-2021): 1987\n",
            "Nome: Cleudimar de Sousa Moraes Aguiar\n",
            "Idade em ->2023: 36 anos\n"
          ]
        }
      ],
      "source": [
        "import datetime\n",
        "\n",
        "def ano_de_nascimento():\n",
        "    while True:\n",
        "        try:\n",
        "            ano = int(input(\"Digite um ano de nascimento entre (1922-2021): \"))\n",
        "            if 1922 <= ano <= 2021:\n",
        "                return ano\n",
        "            else:\n",
        "                print(\"Por favor, digite um ano entre 1922 e 2021.\")\n",
        "        except ValueError:\n",
        "            print(\"Erro! Não é um ano de nascimento válido!\")\n",
        "\n",
        "def calculo_idade(ano_nascimento):\n",
        "    ano_atual = datetime.datetime.now().year\n",
        "    return ano_atual - ano_nascimento\n",
        "\n",
        "nome_completo = input(\"Digite seu nome completo: \")\n",
        "ano_nascimento = ano_de_nascimento()\n",
        "\n",
        "idade = calculo_idade(ano_nascimento)\n",
        "\n",
        "print(f\"Nome: {nome_completo}\")\n",
        "print(f\"Idade em ->{datetime.datetime.now().year}: {idade} anos\")"
      ]
    },
    {
      "cell_type": "code",
      "source": [],
      "metadata": {
        "colab": {
          "base_uri": "https://localhost:8080/"
        },
        "id": "5WzD8v1KbXkR",
        "outputId": "dca81265-d30a-4e89-fa60-4ea9436824d1"
      },
      "execution_count": 10,
      "outputs": [
        {
          "output_type": "stream",
          "name": "stdout",
          "text": [
            "Digite seu nome completo: Cleudimar de Sousa Moraes\n",
            "Digite o ano de nascimento (1922-2021): 1987\n",
            "Nome: Cleudimar de Sousa Moraes\n",
            "Idade em 2022: 36 anos\n"
          ]
        }
      ]
    }
  ]
}